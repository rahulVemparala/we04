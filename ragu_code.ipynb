{
 "cells": [
  {
   "attachments": {},
   "cell_type": "markdown",
   "metadata": {},
   "source": [
    "# Assignment 04 week 04 : Cassandra Python Programing"
   ]
  },
  {
   "attachments": {},
   "cell_type": "markdown",
   "metadata": {},
   "source": [
    "## lib imports"
   ]
  },
  {
   "cell_type": "code",
   "execution_count": 1,
   "metadata": {},
   "outputs": [],
   "source": [
    "import pandas as pd \n",
    "from cassandra.cluster import Cluster"
   ]
  },
  {
   "attachments": {},
   "cell_type": "markdown",
   "metadata": {},
   "source": [
    "## Step 4: Connect to cassandra"
   ]
  },
  {
   "cell_type": "code",
   "execution_count": 2,
   "metadata": {},
   "outputs": [],
   "source": [
    "session = Cluster().connect()"
   ]
  },
  {
   "attachments": {},
   "cell_type": "markdown",
   "metadata": {},
   "source": [
    "## Step 5:  Create keySpace"
   ]
  },
  {
   "cell_type": "code",
   "execution_count": null,
   "metadata": {},
   "outputs": [],
   "source": [
    "\n",
    "keyspace_m14 = session.execute( \"\"\"\n",
    "CREATE KEYSPACE IF NOT EXISTS m14 \n",
    "WITH REPLICATION = {\n",
    "    'class' : 'SimpleStrategy',\n",
    "    'replication_factor' : 1\n",
    "};\n",
    "\"\"\")\n",
    "\n",
    "keyspace_m14"
   ]
  },
  {
   "cell_type": "code",
   "execution_count": 9,
   "metadata": {},
   "outputs": [
    {
     "name": "stdout",
     "output_type": "stream",
     "text": [
      "Row(keyspace_name='m14', type='keyspace', name='m14')\n",
      "Row(keyspace_name='system', type='keyspace', name='system')\n",
      "Row(keyspace_name='system_auth', type='keyspace', name='system_auth')\n",
      "Row(keyspace_name='system_distributed', type='keyspace', name='system_distributed')\n",
      "Row(keyspace_name='system_schema', type='keyspace', name='system_schema')\n",
      "Row(keyspace_name='system_traces', type='keyspace', name='system_traces')\n",
      "Row(keyspace_name='system_views', type='keyspace', name='system_views')\n",
      "Row(keyspace_name='system_virtual_schema', type='keyspace', name='system_virtual_schema')\n"
     ]
    }
   ],
   "source": [
    "rows = session.execute('desc keyspaces')\n",
    "\n",
    "for row in rows:\n",
    "    print(row[0])"
   ]
  },
  {
   "attachments": {},
   "cell_type": "markdown",
   "metadata": {},
   "source": [
    "##  Step6: Create table: Inventory "
   ]
  },
  {
   "cell_type": "code",
   "execution_count": null,
   "metadata": {},
   "outputs": [],
   "source": [
    "create_table = \"\"\"\n",
    "CREATE TABLE IF NOT EXISTS  m14.inventory_by_sku (\n",
    "sku int, \n",
    "name text, \n",
    "description text,\n",
    "warehouse_num int,\n",
    "PRIMARY KEY ((sku) )\n",
    ");\n",
    "\"\"\"\n",
    "session.execute(create_table)"
   ]
  },
  {
   "attachments": {},
   "cell_type": "markdown",
   "metadata": {},
   "source": [
    "# Step7  A: Sample data for inventory table "
   ]
  },
  {
   "cell_type": "code",
   "execution_count": 9,
   "metadata": {},
   "outputs": [
    {
     "data": {
      "text/html": [
       "<div>\n",
       "<style scoped>\n",
       "    .dataframe tbody tr th:only-of-type {\n",
       "        vertical-align: middle;\n",
       "    }\n",
       "\n",
       "    .dataframe tbody tr th {\n",
       "        vertical-align: top;\n",
       "    }\n",
       "\n",
       "    .dataframe thead th {\n",
       "        text-align: right;\n",
       "    }\n",
       "</style>\n",
       "<table border=\"1\" class=\"dataframe\">\n",
       "  <thead>\n",
       "    <tr style=\"text-align: right;\">\n",
       "      <th></th>\n",
       "      <th>sku</th>\n",
       "      <th>name</th>\n",
       "      <th>description</th>\n",
       "      <th>warehouse_num</th>\n",
       "    </tr>\n",
       "  </thead>\n",
       "  <tbody>\n",
       "    <tr>\n",
       "      <th>0</th>\n",
       "      <td>1</td>\n",
       "      <td>apple</td>\n",
       "      <td>fruit</td>\n",
       "      <td>123</td>\n",
       "    </tr>\n",
       "    <tr>\n",
       "      <th>1</th>\n",
       "      <td>2</td>\n",
       "      <td>ball</td>\n",
       "      <td>toy</td>\n",
       "      <td>123</td>\n",
       "    </tr>\n",
       "    <tr>\n",
       "      <th>2</th>\n",
       "      <td>3</td>\n",
       "      <td>cat</td>\n",
       "      <td>animal</td>\n",
       "      <td>456</td>\n",
       "    </tr>\n",
       "    <tr>\n",
       "      <th>3</th>\n",
       "      <td>4</td>\n",
       "      <td>dog</td>\n",
       "      <td>animal</td>\n",
       "      <td>456</td>\n",
       "    </tr>\n",
       "    <tr>\n",
       "      <th>4</th>\n",
       "      <td>5</td>\n",
       "      <td>egg</td>\n",
       "      <td>meat</td>\n",
       "      <td>123</td>\n",
       "    </tr>\n",
       "  </tbody>\n",
       "</table>\n",
       "</div>"
      ],
      "text/plain": [
       "   sku   name description  warehouse_num\n",
       "0    1  apple       fruit            123\n",
       "1    2   ball         toy            123\n",
       "2    3    cat      animal            456\n",
       "3    4    dog      animal            456\n",
       "4    5    egg        meat            123"
      ]
     },
     "execution_count": 9,
     "metadata": {},
     "output_type": "execute_result"
    }
   ],
   "source": [
    "import pandas as pd \n",
    "\n",
    "sku = [1, 2, 3, 4, 5]\n",
    "name = ['apple', 'ball', 'cat', 'dog', 'egg']\n",
    "description = ['fruit', 'toy', 'animal', 'animal', 'meat']\n",
    "warehouse_num = 123\n",
    "\n",
    "mockup_data = [(sku[i], name[i], description[i], warehouse_num) for i in range(5)]\n",
    "\n",
    "df = pd.DataFrame(mockup_data, columns=['sku', 'name', 'description', 'warehouse_num'])\n",
    "df.loc[df['description'] == 'animal', 'warehouse_num'] = 456\n",
    "df.head()"
   ]
  },
  {
   "attachments": {},
   "cell_type": "markdown",
   "metadata": {},
   "source": [
    "## Step7 B: Insert mockup data"
   ]
  },
  {
   "cell_type": "code",
   "execution_count": 13,
   "metadata": {},
   "outputs": [
    {
     "name": "stdout",
     "output_type": "stream",
     "text": [
      "<cassandra.cluster.ResultSet object at 0x7f073a74d4b0>\n",
      "<cassandra.cluster.ResultSet object at 0x7f073a7c11e0>\n",
      "<cassandra.cluster.ResultSet object at 0x7f0740b85690>\n",
      "<cassandra.cluster.ResultSet object at 0x7f0740b85780>\n",
      "<cassandra.cluster.ResultSet object at 0x7f0740b868f0>\n"
     ]
    }
   ],
   "source": [
    "for _, row in df.iterrows():\n",
    "    insert_statement = f\"INSERT INTO m14.inventory_by_sku (sku, name, description, warehouse_num) VALUES ({row['sku']}, '{row['name']}', '{row['description']}', {row['warehouse_num']});\"\n",
    "    session.execute(insert_statement)\n"
   ]
  },
  {
   "attachments": {},
   "cell_type": "markdown",
   "metadata": {},
   "source": [
    "## Step9: Read our inventory table "
   ]
  },
  {
   "cell_type": "code",
   "execution_count": 16,
   "metadata": {},
   "outputs": [
    {
     "ename": "InvalidRequest",
     "evalue": "Error from server: code=2200 [Invalid query] message=\"Cannot execute this query as it might involve data filtering and thus may have unpredictable performance. If you want to execute this query despite the performance unpredictability, use ALLOW FILTERING\"",
     "output_type": "error",
     "traceback": [
      "\u001b[0;31m---------------------------------------------------------------------------\u001b[0m",
      "\u001b[0;31mInvalidRequest\u001b[0m                            Traceback (most recent call last)",
      "Cell \u001b[0;32mIn[16], line 6\u001b[0m\n\u001b[1;32m      1\u001b[0m read_table \u001b[39m=\u001b[39m \u001b[39m\"\"\"\u001b[39m\n\u001b[1;32m      2\u001b[0m \u001b[39mSELECt * from m14.inventory_by_sku\u001b[39m\n\u001b[1;32m      3\u001b[0m \u001b[39mWHERE warehouse_num = 123;\u001b[39m\n\u001b[1;32m      4\u001b[0m \u001b[39m\"\"\"\u001b[39m\n\u001b[0;32m----> 6\u001b[0m rows \u001b[39m=\u001b[39m session\u001b[39m.\u001b[39;49mexecute(read_table)\n\u001b[1;32m      8\u001b[0m \u001b[39mfor\u001b[39;00m row \u001b[39min\u001b[39;00m rows: \n\u001b[1;32m      9\u001b[0m     \u001b[39mprint\u001b[39m(row)\n",
      "File \u001b[0;32m~/miniconda3/lib/python3.10/site-packages/cassandra/cluster.py:2618\u001b[0m, in \u001b[0;36mcassandra.cluster.Session.execute\u001b[0;34m()\u001b[0m\n",
      "File \u001b[0;32m~/miniconda3/lib/python3.10/site-packages/cassandra/cluster.py:4894\u001b[0m, in \u001b[0;36mcassandra.cluster.ResponseFuture.result\u001b[0;34m()\u001b[0m\n",
      "\u001b[0;31mInvalidRequest\u001b[0m: Error from server: code=2200 [Invalid query] message=\"Cannot execute this query as it might involve data filtering and thus may have unpredictable performance. If you want to execute this query despite the performance unpredictability, use ALLOW FILTERING\""
     ]
    }
   ],
   "source": [
    "read_table = \"\"\"\n",
    "SELECt * from m14.inventory_by_sku\n",
    "WHERE warehouse_num = 123;\n",
    "\"\"\"\n",
    "\n",
    "rows = session.execute(read_table)\n",
    "\n",
    "for row in rows: \n",
    "    print(row)"
   ]
  },
  {
   "attachments": {},
   "cell_type": "markdown",
   "metadata": {},
   "source": [
    "## Step8 : Create Index on Warehouse_num column"
   ]
  },
  {
   "cell_type": "code",
   "execution_count": 17,
   "metadata": {},
   "outputs": [],
   "source": [
    "create_index = \"CREATE  INDEX  warh_num_idx  on m14.inventory_by_sku(warehouse_num);\"\n",
    "_ = session.execute(create_index)"
   ]
  },
  {
   "attachments": {},
   "cell_type": "markdown",
   "metadata": {},
   "source": [
    "## Step 10: Search all products with warehouse_num 123 after index "
   ]
  },
  {
   "cell_type": "code",
   "execution_count": 18,
   "metadata": {},
   "outputs": [
    {
     "name": "stdout",
     "output_type": "stream",
     "text": [
      "Row(sku=1004, description='Action RPG', name='Assassins Creed Odyssey', warehouse_num=123)\n",
      "Row(sku=1001, description='Action-adventure', name='Red Dead Redemption 2', warehouse_num=123)\n",
      "Row(sku=1003, description='Open world', name='Grand Theft Auto V', warehouse_num=123)\n",
      "Row(sku=1002, description='Action RPG', name='The Witcher 3: Wild Hunt', warehouse_num=123)\n"
     ]
    }
   ],
   "source": [
    "# Step run select again\n",
    "\n",
    "rows = session.execute(read_table)\n",
    "for row in rows:\n",
    "    print(row)\n"
   ]
  }
 ],
 "metadata": {
  "kernelspec": {
   "display_name": "base",
   "language": "python",
   "name": "python3"
  },
  "language_info": {
   "codemirror_mode": {
    "name": "ipython",
    "version": 3
   },
   "file_extension": ".py",
   "mimetype": "text/x-python",
   "name": "python",
   "nbconvert_exporter": "python",
   "pygments_lexer": "ipython3",
   "version": "3.9.12"
  },
  "orig_nbformat": 4,
  "vscode": {
   "interpreter": {
    "hash": "c774f5f42cb3e70515ef7cb909d9051370cc09a28b296d74902002ebc2249cb4"
   }
  }
 },
 "nbformat": 4,
 "nbformat_minor": 2
}
