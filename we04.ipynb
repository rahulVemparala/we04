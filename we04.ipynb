{
 "cells": [
  {
   "attachments": {},
   "cell_type": "markdown",
   "metadata": {},
   "source": [
    "# WEO4: Cassandra Python Programing"
   ]
  },
  {
   "attachments": {},
   "cell_type": "markdown",
   "metadata": {},
   "source": [
    "## lib imports"
   ]
  },
  {
   "cell_type": "code",
   "execution_count": 1,
   "metadata": {},
   "outputs": [],
   "source": [
    "import pandas as pd \n",
    "from cassandra.cluster import Cluster\n",
    "\n",
    "\n",
    "import random\n"
   ]
  },
  {
   "cell_type": "code",
   "execution_count": 2,
   "metadata": {},
   "outputs": [],
   "source": [
    "## ! conda install -c conda-forge cassandra-cluster"
   ]
  },
  {
   "attachments": {},
   "cell_type": "markdown",
   "metadata": {},
   "source": [
    "## Create a session for cassandra"
   ]
  },
  {
   "cell_type": "code",
   "execution_count": 2,
   "metadata": {},
   "outputs": [],
   "source": [
    "session = Cluster().connect()"
   ]
  },
  {
   "cell_type": "code",
   "execution_count": 3,
   "metadata": {},
   "outputs": [
    {
     "name": "stdout",
     "output_type": "stream",
     "text": [
      "Row(keyspace_name='m14', type='keyspace', name='m14')\n",
      "Row(keyspace_name='system', type='keyspace', name='system')\n",
      "Row(keyspace_name='system_auth', type='keyspace', name='system_auth')\n",
      "Row(keyspace_name='system_distributed', type='keyspace', name='system_distributed')\n",
      "Row(keyspace_name='system_schema', type='keyspace', name='system_schema')\n",
      "Row(keyspace_name='system_traces', type='keyspace', name='system_traces')\n",
      "Row(keyspace_name='system_views', type='keyspace', name='system_views')\n",
      "Row(keyspace_name='system_virtual_schema', type='keyspace', name='system_virtual_schema')\n"
     ]
    }
   ],
   "source": [
    "rows = session.execute(\"desc keyspaces\")\n",
    "\n",
    "for row in rows:\n",
    "    print(row)"
   ]
  },
  {
   "attachments": {},
   "cell_type": "markdown",
   "metadata": {},
   "source": [
    "## Delete existing keyspace"
   ]
  },
  {
   "cell_type": "code",
   "execution_count": 5,
   "metadata": {},
   "outputs": [
    {
     "ename": "InvalidRequest",
     "evalue": "Error from server: code=2200 [Invalid query] message=\"Keyspace 'm14' doesn't exist\"",
     "output_type": "error",
     "traceback": [
      "\u001b[0;31m---------------------------------------------------------------------------\u001b[0m",
      "\u001b[0;31mInvalidRequest\u001b[0m                            Traceback (most recent call last)",
      "Cell \u001b[0;32mIn[5], line 2\u001b[0m\n\u001b[1;32m      1\u001b[0m delete_keySpace\u001b[39m=\u001b[39m \u001b[39m\"\u001b[39m\u001b[39mDROP KEYSPACE m14; \u001b[39m\u001b[39m\"\u001b[39m\n\u001b[0;32m----> 2\u001b[0m session\u001b[39m.\u001b[39;49mexecute(delete_keySpace)\n",
      "File \u001b[0;32m~/miniconda3/lib/python3.10/site-packages/cassandra/cluster.py:2618\u001b[0m, in \u001b[0;36mcassandra.cluster.Session.execute\u001b[0;34m()\u001b[0m\n",
      "File \u001b[0;32m~/miniconda3/lib/python3.10/site-packages/cassandra/cluster.py:4894\u001b[0m, in \u001b[0;36mcassandra.cluster.ResponseFuture.result\u001b[0;34m()\u001b[0m\n",
      "\u001b[0;31mInvalidRequest\u001b[0m: Error from server: code=2200 [Invalid query] message=\"Keyspace 'm14' doesn't exist\""
     ]
    }
   ],
   "source": [
    "delete_keySpace= \"DROP KEYSPACE m14; \"\n",
    "session.execute(delete_keySpace)"
   ]
  },
  {
   "attachments": {},
   "cell_type": "markdown",
   "metadata": {},
   "source": [
    "## Create keySpace"
   ]
  },
  {
   "cell_type": "code",
   "execution_count": 6,
   "metadata": {},
   "outputs": [],
   "source": [
    "create_keySpace = \"\"\"\n",
    "CREATE KEYSPACE IF NOT EXISTS m14 \n",
    "WITH REPLICATION = {\n",
    "    'class' : 'SimpleStrategy',\n",
    "    'replication_factor' : 1\n",
    "};\n",
    "\"\"\"\n",
    "\n",
    "_ = session.execute(create_keySpace)\n",
    "\n"
   ]
  },
  {
   "cell_type": "code",
   "execution_count": 9,
   "metadata": {},
   "outputs": [
    {
     "name": "stdout",
     "output_type": "stream",
     "text": [
      "Row(keyspace_name='m14', type='keyspace', name='m14')\n",
      "Row(keyspace_name='system', type='keyspace', name='system')\n",
      "Row(keyspace_name='system_auth', type='keyspace', name='system_auth')\n",
      "Row(keyspace_name='system_distributed', type='keyspace', name='system_distributed')\n",
      "Row(keyspace_name='system_schema', type='keyspace', name='system_schema')\n",
      "Row(keyspace_name='system_traces', type='keyspace', name='system_traces')\n",
      "Row(keyspace_name='system_views', type='keyspace', name='system_views')\n",
      "Row(keyspace_name='system_virtual_schema', type='keyspace', name='system_virtual_schema')\n"
     ]
    }
   ],
   "source": [
    "rows = session.execute('desc keyspaces')\n",
    "\n",
    "for row in rows:\n",
    "    print(row)"
   ]
  },
  {
   "attachments": {},
   "cell_type": "markdown",
   "metadata": {},
   "source": [
    "##  Create table: Inventory "
   ]
  },
  {
   "cell_type": "code",
   "execution_count": 10,
   "metadata": {},
   "outputs": [],
   "source": [
    "create_table = \"\"\"\n",
    "CREATE TABLE IF NOT EXISTS  m14.inventory_by_sku (\n",
    "sku int, \n",
    "name text, \n",
    "description text,\n",
    "warehouse_num int,\n",
    "PRIMARY KEY ((sku) )\n",
    ");\n",
    "\"\"\"\n",
    "\n",
    "_= session.execute(create_table)"
   ]
  },
  {
   "attachments": {},
   "cell_type": "markdown",
   "metadata": {},
   "source": [
    "# Mock data for inventory table \n"
   ]
  },
  {
   "cell_type": "code",
   "execution_count": 11,
   "metadata": {},
   "outputs": [
    {
     "data": {
      "text/plain": [
       "<bound method NDFrame.head of     sku                      name       description  warehouse_num\n",
       "0  1001     Red Dead Redemption 2  Action-adventure            123\n",
       "1  1002  The Witcher 3: Wild Hunt        Action RPG            123\n",
       "2  1003        Grand Theft Auto V        Open world            123\n",
       "3  1004   Assassins Creed Odyssey        Action RPG            123\n",
       "4  1005                 Fallout 4  Post-apocalyptic            456>"
      ]
     },
     "execution_count": 11,
     "metadata": {},
     "output_type": "execute_result"
    }
   ],
   "source": [
    "sku = [1001, 1002, 1003, 1004, 1005]\n",
    "name = ['Red Dead Redemption 2', 'The Witcher 3: Wild Hunt', 'Grand Theft Auto V', 'Assassins Creed Odyssey', 'Fallout 4']\n",
    "description = ['Action-adventure', 'Action RPG', 'Open world', 'Action RPG', 'Post-apocalyptic']\n",
    "warehouse_num = [123, 456, 789]\n",
    "\n",
    "mockup_data = [(sku[i], name[i], description[i], 123 if i < 3 else random.choice(warehouse_num)) for i in range(5)]\n",
    "\n",
    "df = pd.DataFrame(mockup_data, columns=['sku', 'name', 'description', 'warehouse_num'])\n",
    "df.head"
   ]
  },
  {
   "cell_type": "code",
   "execution_count": 12,
   "metadata": {},
   "outputs": [
    {
     "name": "stdout",
     "output_type": "stream",
     "text": [
      "Printing Insert queries...\n",
      "INSERT INTO m14.inventory_by_sku (sku, name, description, warehouse_num) VALUES (1001, 'Red Dead Redemption 2', 'Action-adventure', 123);\n",
      "INSERT INTO m14.inventory_by_sku (sku, name, description, warehouse_num) VALUES (1002, 'The Witcher 3: Wild Hunt', 'Action RPG', 123);\n",
      "INSERT INTO m14.inventory_by_sku (sku, name, description, warehouse_num) VALUES (1003, 'Grand Theft Auto V', 'Open world', 123);\n",
      "INSERT INTO m14.inventory_by_sku (sku, name, description, warehouse_num) VALUES (1004, 'Assassins Creed Odyssey', 'Action RPG', 123);\n",
      "INSERT INTO m14.inventory_by_sku (sku, name, description, warehouse_num) VALUES (1005, 'Fallout 4', 'Post-apocalyptic', 456);\n"
     ]
    }
   ],
   "source": [
    "# insert statements \n",
    "print(\"Printing Insert queries...\")\n",
    "for _, row in df.iterrows():\n",
    "    insert_statement = \"INSERT INTO m14.inventory_by_sku (sku, name, description, warehouse_num) VALUES ({}, '{}', '{}', {});\".format(row['sku'], row['name'].replace(\"'\", \"''\"), row['description'].replace(\"'\", \"''\"), row['warehouse_num'])\n",
    "    print(insert_statement)"
   ]
  },
  {
   "attachments": {},
   "cell_type": "markdown",
   "metadata": {},
   "source": [
    "## Insert mockup data"
   ]
  },
  {
   "cell_type": "code",
   "execution_count": 13,
   "metadata": {},
   "outputs": [
    {
     "name": "stdout",
     "output_type": "stream",
     "text": [
      "<cassandra.cluster.ResultSet object at 0x7f073a74d4b0>\n",
      "<cassandra.cluster.ResultSet object at 0x7f073a7c11e0>\n",
      "<cassandra.cluster.ResultSet object at 0x7f0740b85690>\n",
      "<cassandra.cluster.ResultSet object at 0x7f0740b85780>\n",
      "<cassandra.cluster.ResultSet object at 0x7f0740b868f0>\n"
     ]
    }
   ],
   "source": [
    "for _, row in df.iterrows():\n",
    "    insert_statement = \"INSERT INTO m14.inventory_by_sku (sku, name, description, warehouse_num) VALUES ({}, '{}', '{}', {});\".format(row['sku'], row['name'], row['description'], row['warehouse_num'])\n",
    "    _ = session.execute(insert_statement)\n",
    "    print(_)\n"
   ]
  },
  {
   "attachments": {},
   "cell_type": "markdown",
   "metadata": {},
   "source": [
    "## Read our inventory table "
   ]
  },
  {
   "cell_type": "code",
   "execution_count": 16,
   "metadata": {},
   "outputs": [
    {
     "ename": "InvalidRequest",
     "evalue": "Error from server: code=2200 [Invalid query] message=\"Cannot execute this query as it might involve data filtering and thus may have unpredictable performance. If you want to execute this query despite the performance unpredictability, use ALLOW FILTERING\"",
     "output_type": "error",
     "traceback": [
      "\u001b[0;31m---------------------------------------------------------------------------\u001b[0m",
      "\u001b[0;31mInvalidRequest\u001b[0m                            Traceback (most recent call last)",
      "Cell \u001b[0;32mIn[16], line 6\u001b[0m\n\u001b[1;32m      1\u001b[0m read_table \u001b[39m=\u001b[39m \u001b[39m\"\"\"\u001b[39m\n\u001b[1;32m      2\u001b[0m \u001b[39mSELECt * from m14.inventory_by_sku\u001b[39m\n\u001b[1;32m      3\u001b[0m \u001b[39mWHERE warehouse_num = 123;\u001b[39m\n\u001b[1;32m      4\u001b[0m \u001b[39m\"\"\"\u001b[39m\n\u001b[0;32m----> 6\u001b[0m rows \u001b[39m=\u001b[39m session\u001b[39m.\u001b[39;49mexecute(read_table)\n\u001b[1;32m      8\u001b[0m \u001b[39mfor\u001b[39;00m row \u001b[39min\u001b[39;00m rows: \n\u001b[1;32m      9\u001b[0m     \u001b[39mprint\u001b[39m(row)\n",
      "File \u001b[0;32m~/miniconda3/lib/python3.10/site-packages/cassandra/cluster.py:2618\u001b[0m, in \u001b[0;36mcassandra.cluster.Session.execute\u001b[0;34m()\u001b[0m\n",
      "File \u001b[0;32m~/miniconda3/lib/python3.10/site-packages/cassandra/cluster.py:4894\u001b[0m, in \u001b[0;36mcassandra.cluster.ResponseFuture.result\u001b[0;34m()\u001b[0m\n",
      "\u001b[0;31mInvalidRequest\u001b[0m: Error from server: code=2200 [Invalid query] message=\"Cannot execute this query as it might involve data filtering and thus may have unpredictable performance. If you want to execute this query despite the performance unpredictability, use ALLOW FILTERING\""
     ]
    }
   ],
   "source": [
    "read_table = \"\"\"\n",
    "SELECt * from m14.inventory_by_sku\n",
    "WHERE warehouse_num = 123;\n",
    "\"\"\"\n",
    "\n",
    "rows = session.execute(read_table)\n",
    "\n",
    "for row in rows: \n",
    "    print(row)"
   ]
  },
  {
   "attachments": {},
   "cell_type": "markdown",
   "metadata": {},
   "source": [
    "## Create Index on Warehouse_num column"
   ]
  },
  {
   "cell_type": "code",
   "execution_count": 17,
   "metadata": {},
   "outputs": [],
   "source": [
    "create_index = \"CREATE  INDEX  warh_num_idx  on m14.inventory_by_sku(warehouse_num);\"\n",
    "_ = session.execute(create_index)"
   ]
  },
  {
   "cell_type": "code",
   "execution_count": 18,
   "metadata": {},
   "outputs": [
    {
     "name": "stdout",
     "output_type": "stream",
     "text": [
      "Row(sku=1004, description='Action RPG', name='Assassins Creed Odyssey', warehouse_num=123)\n",
      "Row(sku=1001, description='Action-adventure', name='Red Dead Redemption 2', warehouse_num=123)\n",
      "Row(sku=1003, description='Open world', name='Grand Theft Auto V', warehouse_num=123)\n",
      "Row(sku=1002, description='Action RPG', name='The Witcher 3: Wild Hunt', warehouse_num=123)\n"
     ]
    }
   ],
   "source": [
    "# run select again\n",
    "\n",
    "rows = session.execute(read_table)\n",
    "for row in rows:\n",
    "    print(row)\n"
   ]
  },
  {
   "attachments": {},
   "cell_type": "markdown",
   "metadata": {},
   "source": [
    "## Obseravations: \n",
    "\n",
    "1.The concept of partition key and clustory key is crucial in the cassandra database, we need to create partitions carefully.\n",
    "2. In the above example, we have created the table with a 'sku' column as the partition key, this table is very useful for accessing a specific sku from the data.\n",
    "3. However, if we try to access the warehouse_num we will get an error, becuase the table is now structured is, that the 'sku' is the partition key and all the rows are divided into partitions of sku values and stored on different nodes. we only have access to the top level of the data that is the 'SKU' column , we dont see warehouse_num , so this will trigger a full scan on the table,which causes read operations on every node in the cluster, which is quite resource intensive. \n",
    "\n",
    "4. Another appraoch is to create another verion of table ,this time warehouse_num as a partition key . so we can access individual warehouse_num without triggering a full scan on the cluster. "
   ]
  },
  {
   "cell_type": "markdown",
   "metadata": {},
   "source": [
    "# Create table with warehouse as parition key "
   ]
  },
  {
   "cell_type": "code",
   "execution_count": 21,
   "metadata": {},
   "outputs": [
    {
     "name": "stdout",
     "output_type": "stream",
     "text": [
      "\n",
      "CREATE TABLE IF NOT EXISTS  m14.inventory_by_warehouse_num (\n",
      "sku int, \n",
      "name text, \n",
      "description text,\n",
      "warehouse_num int,\n",
      "PRIMARY KEY ((warehouse_num) )\n",
      ");\n",
      "\n"
     ]
    }
   ],
   "source": [
    "create_table_warehnum = create_table.replace('_by_sku', '_by_warehouse_num').replace('PRIMARY KEY ((sku) )', 'PRIMARY KEY ((warehouse_num) )')\n",
    "\n",
    "print(create_table_warehnum)\n",
    "_ = session.execute(create_table_warehnum)"
   ]
  },
  {
   "cell_type": "code",
   "execution_count": 22,
   "metadata": {},
   "outputs": [],
   "source": [
    "# insert mockup data\n",
    "for _, row in df.iterrows():\n",
    "    insert_statement = \"INSERT INTO m14.inventory_by_warehouse_num(sku, name, description, warehouse_num) VALUES ({}, '{}', '{}', {});\".format(row['sku'], row['name'].replace(\"'\", \"''\"), row['description'].replace(\"'\", \"''\"), row['warehouse_num'])\n",
    "    _ = session.execute(insert_statement)"
   ]
  },
  {
   "cell_type": "code",
   "execution_count": 23,
   "metadata": {},
   "outputs": [
    {
     "name": "stdout",
     "output_type": "stream",
     "text": [
      "Row(warehouse_num=123, description='Action RPG', name='Assassins Creed Odyssey', sku=1004)\n"
     ]
    }
   ],
   "source": [
    "# Read data \n",
    "\n",
    "read_table_warehnum = \"Select * from m14.inventory_by_warehouse_num where warehouse_num = 123;\"\n",
    "rows = session.execute(read_table_warehnum)\n",
    "\n",
    "for row in rows:\n",
    "    print(row)"
   ]
  },
  {
   "attachments": {},
   "cell_type": "markdown",
   "metadata": {},
   "source": [
    "## Obserations: \n",
    "\n",
    "1. Notice ,we didn't get an error this time, nor we needed an index. this is becuase we are filtering over the partition key ,and it is very fast\n",
    "2. Another point to mention is  that, this time the result of the read is different, we only got 1 record with warehouse_num 123, unline the previus(we got 4 rows).\n",
    "3. The reason for this is that the cassandry follows are relaxed consistency and by defualt the consistency level is set to 1, which means if one of the node acknowledges the partition insert then the insert query operation is succesful, this means that the cassandra will reach eventual consistency over time. hence the results are not same for both the read queries. \n"
   ]
  }
 ],
 "metadata": {
  "kernelspec": {
   "display_name": "base",
   "language": "python",
   "name": "python3"
  },
  "language_info": {
   "codemirror_mode": {
    "name": "ipython",
    "version": 3
   },
   "file_extension": ".py",
   "mimetype": "text/x-python",
   "name": "python",
   "nbconvert_exporter": "python",
   "pygments_lexer": "ipython3",
   "version": "3.10.8"
  },
  "orig_nbformat": 4,
  "vscode": {
   "interpreter": {
    "hash": "c774f5f42cb3e70515ef7cb909d9051370cc09a28b296d74902002ebc2249cb4"
   }
  }
 },
 "nbformat": 4,
 "nbformat_minor": 2
}
